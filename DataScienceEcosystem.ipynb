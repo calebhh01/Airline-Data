{
 "cells": [
  {
   "cell_type": "markdown",
   "id": "b59678f7-5e9d-4de0-a9b2-f7a3baeab4c7",
   "metadata": {},
   "source": [
    "# Data Science Tools and Ecosystem"
   ]
  },
  {
   "cell_type": "markdown",
   "id": "5db64a81-39e7-4c2f-94e5-e89331ec8849",
   "metadata": {},
   "source": [
    "In this notebook, Data Science Tools and Ecosystem are summarized."
   ]
  },
  {
   "cell_type": "markdown",
   "id": "09fcb229-63d4-4d18-8000-605732b8622f",
   "metadata": {},
   "source": [
    "Objectives:\n",
    "- List popular languages for Data Science\n",
    "- List commonly used libraries for Data Science\n",
    "- List some common open source data science development environment tools\n",
    "- Perform some basic arithmetic in python"
   ]
  },
  {
   "cell_type": "markdown",
   "id": "549ee4bf-e5ef-4e81-83cb-43e4e956ad17",
   "metadata": {},
   "source": [
    "Some of the popular languages that Data Scientists use are:\n",
    "1. Python\n",
    "2. R\n",
    "3. SQL"
   ]
  },
  {
   "cell_type": "markdown",
   "id": "6be54d91-dd10-41de-9282-7b76e5db02dd",
   "metadata": {},
   "source": [
    "Some of the commonly used libraries used by Data Scientists include:\n",
    "1. matplotlib\n",
    "2. scikit-learn\n",
    "3. pandas"
   ]
  },
  {
   "cell_type": "markdown",
   "id": "b7a92334-847d-4b17-ae9d-afbdf2569282",
   "metadata": {
    "tags": []
   },
   "source": [
    "| Data Science Tools |\n",
    "| -------------------|\n",
    "| Jupyter |\n",
    "| VS Code |\n",
    "| Gitlab |"
   ]
  },
  {
   "cell_type": "markdown",
   "id": "9be4b7bc-dc4c-43d0-900d-21f70e8e1a15",
   "metadata": {},
   "source": [
    "### Below are a few examples of evaluating arithmetic expressions in Python"
   ]
  },
  {
   "cell_type": "code",
   "execution_count": 5,
   "id": "1c4c942e-a08d-44f4-a209-60ade91bbf6b",
   "metadata": {
    "tags": []
   },
   "outputs": [
    {
     "data": {
      "text/plain": [
       "17"
      ]
     },
     "execution_count": 5,
     "metadata": {},
     "output_type": "execute_result"
    }
   ],
   "source": [
    "# This a simple arithmetic expression to mutiply then add integers\n",
    "(3*4)+5"
   ]
  },
  {
   "cell_type": "code",
   "execution_count": 6,
   "id": "e7fcba60-4f6e-43cf-89fa-ce92017e9651",
   "metadata": {
    "tags": []
   },
   "outputs": [
    {
     "name": "stdout",
     "output_type": "stream",
     "text": [
      "3.3333333333333335\n"
     ]
    }
   ],
   "source": [
    "# This will convert 200 minutes to hours by diving by 60\n",
    "def minutestohours(min):\n",
    "    return min/60\n",
    "minutes = minutestohours(200)\n",
    "print(minutes)"
   ]
  },
  {
   "cell_type": "markdown",
   "id": "ae66f9ca-ed21-4361-9856-25419be9af05",
   "metadata": {},
   "source": [
    "## Author\n",
    "Caleb Heuvel-Horwitz"
   ]
  },
  {
   "cell_type": "code",
   "execution_count": null,
   "id": "43273e81-04ee-48c3-aacd-a4c505f82d9e",
   "metadata": {},
   "outputs": [],
   "source": []
  }
 ],
 "metadata": {
  "kernelspec": {
   "display_name": "Python",
   "language": "python",
   "name": "conda-env-python-py"
  },
  "language_info": {
   "codemirror_mode": {
    "name": "ipython",
    "version": 3
   },
   "file_extension": ".py",
   "mimetype": "text/x-python",
   "name": "python",
   "nbconvert_exporter": "python",
   "pygments_lexer": "ipython3",
   "version": "3.7.12"
  }
 },
 "nbformat": 4,
 "nbformat_minor": 5
}
